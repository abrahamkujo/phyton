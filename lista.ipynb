
  "metadata": {},
  "source": [
   "### Ejercicio 3\n",
   "\n",
   "En el primer ejercicio hicimos una lista de días. El primer elemento de *dias* es \"lunes\". Podemos cambiar manualmente todos los elementos para que la semana empiece por domingo:\n",
   "\n",
   "    dias[0] = \"domingo\"\n",
   "    dias[1] = \"lunes\"\n",
   "    ...etc...\n",
   "\n",
   "Pero esto es tan laborioso que nos costaría menos esfuerzo crear la lista de nuevo:\n",
   "\n",
   "    dias = [\"domingo\", \"lunes\", ... etc]\n",
   "    \n",
   "Sin embargo, es frecuente que estos cambios se tengan que hacer de manera autónoma mediante bucles en un programa. Para ello, comprueba el siguiente ejemplo:\n",
   "\n",
   "    lista = [\"Uno\", \"Dos\", \"Tres\"]\n",
   "    primero = lista[0]\n",
   "    for i in range(3):\n",
   "         if i == 2:\n",
   "             lista[i] = primero\n",
   "         else:\n",
   "             lista[i] = lista[i+1]\n",
   "             \n",
   "    print(lista)\n",
   "\n",
   "Tu tarea ahora será modificar de manera similar la lista **dias** para que el primer elemento sea el domingo, y vayan todos en el orden correcto."
  ]
 },
 {
  "cell_type": "code",
  "execution_count": 1,
  "id": "expected-cement",
  "metadata": {},
  "outputs": [],
  "source": [
   "dias = ''# continúa aquí."
  ]
 },
 {
  "cell_type": "markdown",
  "id": "associate-extreme",
  "metadata": {},
  "source": [
   "### Ejercicio 4\n",
   "\n",
   "Escriba un programa que permita crear una lista de palabras. Para ello, el programa tiene que pedir un número y luego solicitar ese número de palabras para crear la lista. Por último, el programa tiene que escribir la lista.\n",
   "Tendrá que utilizarse una instrucción ***input()*** para almacenar el tamaño de la lista en una variable, y a continuación un bucle ***for*** para ir pidiendo y guardando las palabras.\n",
   "Si el usuario introduce el número 0, habrá que mostrar un mensaje de error."
  ]
 },
 {
  "cell_type": "code",
  "execution_count": null,
  "id": "alert-florence",
  "metadata": {},
  "outputs": [],
  "source": [
   "# paso 1: guardar el tamaño de lista en una variable."
  ]
 }
],
"metadata": {
 "kernelspec": {
  "display_name": "Python 3",
  "language": "python",
  "name": "python3"
 },
 "language_info": {
  "codemirror_mode": {
   "name": "ipython",
   "version": 3
  },
  "file_extension": ".py",
  "mimetype": "text/x-python",
  "name": "python",
  "nbconvert_exporter": "python",
  "pygments_lexer": "ipython3",
  "version": "3.8.8"
 }
},
"nbformat": 4,
"nbformat_minor": 5
}
